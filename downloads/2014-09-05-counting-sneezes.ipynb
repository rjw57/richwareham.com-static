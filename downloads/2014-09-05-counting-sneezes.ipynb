{
 "metadata": {
  "layout": "post",
  "name": "",
  "post": {
   "cover": "images/sneeze.jpg",
   "coveralt": "CC BY-NC-ND foshydog@flickr",
   "tags": [
    "python",
    "notebook"
   ],
   "title": "Counting Sneezes from the Web"
  },
  "signature": "sha256:0527d6e0ab33813b4cbc2b8310c6c960bb213ccf75f8dfccb2ab98b6038bce6f"
 },
 "nbformat": 3,
 "nbformat_minor": 0,
 "worksheets": [
  {
   "cells": [
    {
     "cell_type": "markdown",
     "metadata": {},
     "source": [
      "The [sneeze count](http://sneezecount.joyfeed.com/) website catalogues one person's sneezes since 2007. A work colleague asked how difficult it would be to extract a list of timestamps from the site. Could we then plot sneezes over time? This post shows how easy this is to do using Python.\n",
      "\n",
      "# Fetching the data\n",
      "\n",
      "Conveniently there is an RSS feed available for the site which can be fetched via Python's built in [urlopen](https://docs.python.org/3/library/urllib.request.html#urllib.request.urlopen) function:"
     ]
    },
    {
     "cell_type": "code",
     "collapsed": false,
     "input": [
      "from urllib.request import urlopen\n",
      "print('...')\n",
      "print('\\n'.join(urlopen('http://sneezecount.joyfeed.com/feed').read().decode('utf8').splitlines()[20:30]))\n",
      "print('...')"
     ],
     "language": "python",
     "metadata": {},
     "outputs": [
      {
       "output_type": "stream",
       "stream": "stdout",
       "text": [
        "...\n",
        "\t<item>\n",
        "\t\t<title>Four thousand and nineteen</title>\n",
        "\t\t<link>http://sneezecount.joyfeed.com/four-thousand-and-nineteen/</link>\n",
        "\t\t<comments>http://sneezecount.joyfeed.com/four-thousand-and-nineteen/#comments</comments>\n",
        "\t\t<pubDate>Fri, 22 Aug 2014 12:41:25 +0000</pubDate>\n",
        "\t\t<dc:creator><![CDATA[Peter]]></dc:creator>\n",
        "\t\t\t\t<category><![CDATA[Sneezes]]></category>\n",
        "\n",
        "\t\t<guid isPermaLink=\"false\">http://sneezecount.joyfeed.com/?p=8608</guid>\n",
        "\t\t<description><![CDATA[Seesaw, Twycross Zoo Moderate to strong &#8220;I&#8217;m not heavy enough. And you&#8217;re too heavy.&#8221;]]></description>"
       ]
      },
      {
       "output_type": "stream",
       "stream": "stdout",
       "text": [
        "\n",
        "...\n"
       ]
      }
     ],
     "prompt_number": 7
    },
    {
     "cell_type": "markdown",
     "metadata": {},
     "source": [
      "There is also a ``paged`` query parameter whch lets one get the next page of results:"
     ]
    },
    {
     "cell_type": "code",
     "collapsed": false,
     "input": [
      "from urllib.request import urlopen\n",
      "print('...')\n",
      "print('\\n'.join(urlopen('http://sneezecount.joyfeed.com/feed?paged=2').read().decode('utf8').splitlines()[20:30]))\n",
      "print('...')"
     ],
     "language": "python",
     "metadata": {},
     "outputs": [
      {
       "output_type": "stream",
       "stream": "stdout",
       "text": [
        "...\n",
        "\t<item>\n",
        "\t\t<title>Four thousand and nine</title>\n",
        "\t\t<link>http://sneezecount.joyfeed.com/four-thousand-and-nine/</link>\n",
        "\t\t<comments>http://sneezecount.joyfeed.com/four-thousand-and-nine/#comments</comments>\n",
        "\t\t<pubDate>Sat, 09 Aug 2014 17:09:39 +0000</pubDate>\n",
        "\t\t<dc:creator><![CDATA[Peter]]></dc:creator>\n",
        "\t\t\t\t<category><![CDATA[Sneezes]]></category>\n",
        "\n",
        "\t\t<guid isPermaLink=\"false\">http://sneezecount.joyfeed.com/?p=8587</guid>\n",
        "\t\t<description><![CDATA[Dining room, Malt Barn, Brize Norton Moderate Accepting the offer of an elderflower Prosecco]]></description>"
       ]
      },
      {
       "output_type": "stream",
       "stream": "stdout",
       "text": [
        "\n",
        "...\n"
       ]
      }
     ],
     "prompt_number": 8
    },
    {
     "cell_type": "markdown",
     "metadata": {},
     "source": [
      "Python also has a built in XML parsing module, the [ElementTree](https://docs.python.org/3/library/xml.etree.elementtree.html) module. Usage is, *ahem*, elementary:"
     ]
    },
    {
     "cell_type": "code",
     "collapsed": false,
     "input": [
      "import xml.etree.ElementTree as ET\n",
      "\n",
      "def parse_xml_url(url):\n",
      "    tree = ET.parse(urlopen(url))\n",
      "    return tree.getroot()\n",
      "\n",
      "root = parse_xml_url('http://sneezecount.joyfeed.com/feed?paged=2')\n",
      "print(root)"
     ],
     "language": "python",
     "metadata": {},
     "outputs": [
      {
       "output_type": "stream",
       "stream": "stdout",
       "text": [
        "<Element 'rss' at 0x7f958d5ccf70>\n"
       ]
      }
     ],
     "prompt_number": 9
    },
    {
     "cell_type": "markdown",
     "metadata": {},
     "source": [
      "An RSS feed encodes each post with an ``item`` tag and each publication date within the item as a ``pubDate``. A quick and dirty hack to extract all dates from an RSS feed is simply to list all the ``pubDate`` elements. According to [WordPress's documentation](http://codex.wordpress.org/WordPress_Feeds#RSS_feed_time_and_date_format), the ``pubDate`` tages are RFC822 dates. Python has a module to deal with that too! The [email.utils](https://docs.python.org/2/library/email.util.html) module has a ``parsedate`` function. The value can be passed directly to ``time.mktime()`` to get a timestamp."
     ]
    },
    {
     "cell_type": "code",
     "collapsed": false,
     "input": [
      "from email.utils import parsedate\n",
      "import time\n",
      "\n",
      "def extract_dates(root):\n",
      "    return list(time.mktime(parsedate(elem.text)) for elem in root.iter('pubDate'))\n",
      "\n",
      "print(', '.join(str(t) for t in extract_dates(root)))"
     ],
     "language": "python",
     "metadata": {},
     "outputs": [
      {
       "output_type": "stream",
       "stream": "stdout",
       "text": [
        "1407600579.0, 1407520308.0, 1407389858.0, 1407381140.0, 1407344647.0, 1407255800.0, 1407141500.0, 1407069426.0, 1407009164.0, 1406970003.0\n"
       ]
      }
     ],
     "prompt_number": 12
    },
    {
     "cell_type": "markdown",
     "metadata": {},
     "source": [
      "To get dates for a given feed, therefore, we need simply page through the feed starting at page 1 until we get a result with no items."
     ]
    },
    {
     "cell_type": "code",
     "collapsed": false,
     "input": [
      "from urllib.parse import urljoin\n",
      "from urllib.request import HTTPError\n",
      "\n",
      "def dates_from_feed_url(url):\n",
      "    paged = 0\n",
      "    all_dates = []\n",
      "    while True:\n",
      "        paged += 1\n",
      "        page_url = urljoin(url, '?paged={0}'.format(paged))\n",
      "        try:\n",
      "            dates = extract_dates(parse_xml_url(page_url))\n",
      "        except HTTPError:\n",
      "            # Interpret a HTTP error (e.g. 404) as us reaching the end of the list\n",
      "            break\n",
      "        all_dates.extend(dates)\n",
      "        if len(dates) == 0:\n",
      "            break\n",
      "    return all_dates\n",
      "\n",
      "# Test with a feed URL for a single month:\n",
      "ts = dates_from_feed_url('http://sneezecount.joyfeed.com/2014/08/feed')\n",
      "print(', '.join(str(t) for t in ts))"
     ],
     "language": "python",
     "metadata": {},
     "outputs": [
      {
       "output_type": "stream",
       "stream": "stdout",
       "text": [
        "1408707685.0, 1408628545.0, 1408563641.0, 1408537639.0, 1408439866.0, 1408275986.0, 1408256591.0, 1408167669.0, 1408131465.0, 1407820127.0, 1407600579.0, 1407520308.0, 1407389858.0, 1407381140.0, 1407344647.0, 1407255800.0, 1407141500.0, 1407069426.0, 1407009164.0, 1406970003.0, 1406870597.0\n"
       ]
      }
     ],
     "prompt_number": 13
    },
    {
     "cell_type": "markdown",
     "metadata": {},
     "source": [
      "We can get all dates for all time by using the full feed URL:"
     ]
    },
    {
     "cell_type": "code",
     "collapsed": false,
     "input": [
      "timestamps = dates_from_feed_url('http://sneezecount.joyfeed.com/feed')"
     ],
     "language": "python",
     "metadata": {},
     "outputs": [],
     "prompt_number": 14
    },
    {
     "cell_type": "markdown",
     "metadata": {},
     "source": [
      "If we look at the first page of the website, as of writing there are four thousand and nineteen sneezes. Let's just ckeck that we've got them all:"
     ]
    },
    {
     "cell_type": "code",
     "collapsed": false,
     "input": [
      "print('Fetched {0} sneeze timestamps'.format(len(timestamps)))"
     ],
     "language": "python",
     "metadata": {},
     "outputs": [
      {
       "output_type": "stream",
       "stream": "stdout",
       "text": [
        "Fetched 4019 sneeze timestamps\n"
       ]
      }
     ],
     "prompt_number": 21
    },
    {
     "cell_type": "markdown",
     "metadata": {},
     "source": [
      "# Plotting\n",
      "\n",
      "Let's use matplotlib to plot the timestamps. We first use some IPython magic to load the pylab environment:"
     ]
    },
    {
     "cell_type": "code",
     "collapsed": false,
     "input": [
      "%pylab inline\n",
      "rcParams['figure.figsize'] = (14,9) # Set the default figure size"
     ],
     "language": "python",
     "metadata": {},
     "outputs": [
      {
       "output_type": "stream",
       "stream": "stdout",
       "text": [
        "Populating the interactive namespace from numpy and matplotlib\n"
       ]
      }
     ],
     "prompt_number": 23
    },
    {
     "cell_type": "code",
     "collapsed": false,
     "input": [
      "plot(timestamps, np.arange(len(timestamps)))\n",
      "\n",
      "title('Sneezes over time')\n",
      "xlabel('Timestamp')\n",
      "ylabel('Sneezes')\n",
      "\n",
      "grid('on')"
     ],
     "language": "python",
     "metadata": {},
     "outputs": [
      {
       "metadata": {},
       "output_type": "display_data",
       "png": "[encoded data removed]",
       "text": [
        "<matplotlib.figure.Figure at 0x7f957c65ef50>"
       ]
      }
     ],
     "prompt_number": 27
    },
    {
     "cell_type": "markdown",
     "metadata": {},
     "source": [
      "Possibly more interesting is a histogram of intervals between sneezes:"
     ]
    },
    {
     "cell_type": "code",
     "collapsed": false,
     "input": [
      "# Use three hour bins out to 5 days\n",
      "hist(np.diff(np.asarray(timestamps) / (60*60)), bins=np.arange(0, 5*24, 3))\n",
      "title('Histogram of times between sneezes')\n",
      "xlabel('Hours')\n",
      "ylabel('Count')\n",
      "grid('on')"
     ],
     "language": "python",
     "metadata": {},
     "outputs": [
      {
       "metadata": {},
       "output_type": "display_data",
       "png": "[encoded data removed]",
       "text": [
        "<matplotlib.figure.Figure at 0x7f957c65e510>"
       ]
      }
     ],
     "prompt_number": 31
    },
    {
     "cell_type": "markdown",
     "metadata": {},
     "source": [
      "# Summary\n",
      "\n",
      "In this post we showed how the Python standard library has all the tools we require to scrape a website and plot some interesting figures using data from it."
     ]
    }
   ],
   "metadata": {}
  }
 ]
}