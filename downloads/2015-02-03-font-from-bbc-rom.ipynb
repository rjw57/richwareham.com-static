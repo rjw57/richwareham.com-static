{
 "metadata": {
  "layout": "post",
  "name": "",
  "post": {
   "cover": "images/acorn-rom.png",
   "coveralt": "",
   "tags": [
    "python",
    "notebook"
   ],
   "title": "Fonts from old ROMs with Python"
  },
  "signature": "sha256:16215d6324720041c4e8b504d157c82cbeccb378d2e4b6275c51c21b11e1d707"
 },
 "nbformat": 3,
 "nbformat_minor": 0,
 "worksheets": [
  {
   "cells": [
    {
     "cell_type": "heading",
     "level": 1,
     "metadata": {},
     "source": [
      "Introduction"
     ]
    },
    {
     "cell_type": "markdown",
     "metadata": {},
     "source": [
      "For a personal project recently I needed a simple monospaced 8x8 pixel font. I could, of course, make my own but I thought it'd be nice for nostalgia reasons to try and extract the Acorn 8x8 font used in the old [BBC Microcomputer](http://en.wikipedia.org/wiki/BBC_Micro). Using Python we can directly extract the font from a zipfile containing a ROM image which we download from the web. We can then use the [imgur](https://imgur.com) API to upload the resulting font directly to the web."
     ]
    },
    {
     "cell_type": "heading",
     "level": 1,
     "metadata": {},
     "source": [
      "Implementation"
     ]
    },
    {
     "cell_type": "markdown",
     "metadata": {},
     "source": [
      "You can find a copy of the [BBC Model B memory map](http://www.8bs.com/mag/32/bbcmemmap2.txt) online. The relevant section for our needs is:\n",
      "\n",
      "```\n",
      "PAGE 192 (&C0) to 194 (&C2) : OS ROM\n",
      "\n",
      "C000-C2FF Character font lookup table\n",
      "```\n",
      "\n",
      "This tells us that the character font table is in the first 0x300 (or 768) bytes of the OS ROM. The OS ROMs are available from multiple sources but there is a [page](http://www.bbcmicrogames.com/roms.html) on a BBC Micro games site which has a link."
     ]
    },
    {
     "cell_type": "code",
     "collapsed": false,
     "input": [
      "OS_ROM_URL = 'http://www.bbcmicrogames.com/roms/os12.zip'"
     ],
     "language": "python",
     "metadata": {},
     "outputs": [],
     "prompt_number": 15
    },
    {
     "cell_type": "markdown",
     "metadata": {},
     "source": [
      "This is a zip file and so we can use the Python ``zipfile`` module to examine the file after downloading it into a ``bytes`` object via the ``requests`` library:"
     ]
    },
    {
     "cell_type": "code",
     "collapsed": false,
     "input": [
      "import requests         # downloading the zipfile\n",
      "from io import BytesIO  # treating a bytes object as file\n",
      "import zipfile          # parsing the zipfile"
     ],
     "language": "python",
     "metadata": {},
     "outputs": [],
     "prompt_number": 16
    },
    {
     "cell_type": "code",
     "collapsed": false,
     "input": [
      "# Fetch the ROM and check that the GET succeeded\n",
      "os_rom_zip_req = requests.get(OS_ROM_URL)\n",
      "assert os_rom_zip_req.status_code == 200"
     ],
     "language": "python",
     "metadata": {},
     "outputs": [],
     "prompt_number": 17
    },
    {
     "cell_type": "code",
     "collapsed": false,
     "input": [
      "# Parse the body as a zip file\n",
      "os_rom_zip = zipfile.ZipFile(BytesIO(os_rom_zip_req.content))"
     ],
     "language": "python",
     "metadata": {},
     "outputs": [],
     "prompt_number": 18
    },
    {
     "cell_type": "markdown",
     "metadata": {},
     "source": [
      "There should only be one file in the archive which is the one we want:"
     ]
    },
    {
     "cell_type": "code",
     "collapsed": false,
     "input": [
      "print('Archive contents: ' + ','.join(os_rom_zip.namelist()))\n",
      "assert len(os_rom_zip.filelist) == 1"
     ],
     "language": "python",
     "metadata": {},
     "outputs": [
      {
       "output_type": "stream",
       "stream": "stdout",
       "text": [
        "Archive contents: OS12.ROM\n"
       ]
      }
     ],
     "prompt_number": 19
    },
    {
     "cell_type": "markdown",
     "metadata": {},
     "source": [
      "So, we want to get the first 0x300 bytes:"
     ]
    },
    {
     "cell_type": "code",
     "collapsed": false,
     "input": [
      "font_table = os_rom_zip.read(os_rom_zip.filelist[0])[:0x300]"
     ],
     "language": "python",
     "metadata": {},
     "outputs": [],
     "prompt_number": 20
    },
    {
     "cell_type": "markdown",
     "metadata": {},
     "source": [
      "We can use the ``bitarray`` module along with ``numpy`` to extract the character font as a 1-bit array. The characters are stored as one byte per row and so our final font array should be 8 columns wide and 8 &times; number of characters high."
     ]
    },
    {
     "cell_type": "code",
     "collapsed": false,
     "input": [
      "import numpy as np\n",
      "from bitarray import bitarray"
     ],
     "language": "python",
     "metadata": {},
     "outputs": [],
     "prompt_number": 21
    },
    {
     "cell_type": "code",
     "collapsed": false,
     "input": [
      "font_table_array = bitarray(endian='big')\n",
      "font_table_array.frombytes(font_table)\n",
      "font = np.array(font_table_array.tolist()).reshape((-1, 8))\n",
      "\n",
      "n_chars = font.shape[0] // 8\n",
      "print('Number of characters: {0}'.format(n_chars))"
     ],
     "language": "python",
     "metadata": {},
     "outputs": [
      {
       "output_type": "stream",
       "stream": "stdout",
       "text": [
        "Number of characters: 96\n"
       ]
      }
     ],
     "prompt_number": 22
    },
    {
     "cell_type": "markdown",
     "metadata": {},
     "source": [
      "Let's look at the first few characters just to check:"
     ]
    },
    {
     "cell_type": "code",
     "collapsed": false,
     "input": [
      "%matplotlib inline\n",
      "from matplotlib.pyplot import *\n",
      "\n",
      "imshow(font[:8*3, :], interpolation='none', cmap='gray')"
     ],
     "language": "python",
     "metadata": {},
     "outputs": [
      {
       "metadata": {},
       "output_type": "pyout",
       "prompt_number": 23,
       "text": [
        "<matplotlib.image.AxesImage at 0x7f344fc0db38>"
       ]
      },
      {
       "metadata": {},
       "output_type": "display_data",
       "png": "[encoded data removed]",
       "text": [
        "<matplotlib.figure.Figure at 0x7f3454116d30>"
       ]
      }
     ],
     "prompt_number": 23
    },
    {
     "cell_type": "markdown",
     "metadata": {},
     "source": [
      "It would be nice to see the entire font as one image. Let's first split it into one array per character:"
     ]
    },
    {
     "cell_type": "code",
     "collapsed": false,
     "input": [
      "char_arrays = np.split(font, n_chars)\n",
      "\n",
      "# check that we've split correctly\n",
      "imshow(char_arrays[20], interpolation='none', cmap='gray')"
     ],
     "language": "python",
     "metadata": {},
     "outputs": [
      {
       "metadata": {},
       "output_type": "pyout",
       "prompt_number": 24,
       "text": [
        "<matplotlib.image.AxesImage at 0x7f344fbebd68>"
       ]
      },
      {
       "metadata": {},
       "output_type": "display_data",
       "png": "[encoded data removed]",
       "text": [
        "<matplotlib.figure.Figure at 0x7f344fc23860>"
       ]
      }
     ],
     "prompt_number": 24
    },
    {
     "cell_type": "markdown",
     "metadata": {},
     "source": [
      "Now we do some advanced juggling to reshape the character array:"
     ]
    },
    {
     "cell_type": "code",
     "collapsed": false,
     "input": [
      "font_image = np.vstack(tuple(\n",
      "    np.hstack(row).reshape((8, -1)) for row in np.array(char_arrays).reshape((-1, 16, 8, 8))\n",
      "))\n",
      "\n",
      "print('Generated font image of shape: ' + 'x'.join(str(x) for x in font_image.shape))\n",
      "\n",
      "imshow(font_image, cmap='gray', interpolation='none')"
     ],
     "language": "python",
     "metadata": {},
     "outputs": [
      {
       "output_type": "stream",
       "stream": "stdout",
       "text": [
        "Generated font image of shape: 48x128\n"
       ]
      },
      {
       "metadata": {},
       "output_type": "pyout",
       "prompt_number": 25,
       "text": [
        "<matplotlib.image.AxesImage at 0x7f344fb65208>"
       ]
      },
      {
       "metadata": {},
       "output_type": "display_data",
       "png": "[encoded data removed]",
       "text": [
        "<matplotlib.figure.Figure at 0x7f344fbf90b8>"
       ]
      }
     ],
     "prompt_number": 25
    },
    {
     "cell_type": "markdown",
     "metadata": {},
     "source": [
      "And we're a winner. The only thing left to do is to save it as an image for some further processing. We'll use the ``imgurpython`` library to upload our result directly to imgur. I've created a file called ``imgur-credentials.json`` containing the client id and secret I obtained by registering an application at https://api.imgur.com/. The file looks something like this:\n",
      "\n",
      "```json\n",
      "{\n",
      "    \"clientId\": \"some magic hex string\",\n",
      "    \"clientSecret\": \"another magic hex string\"\n",
      "}\n",
      "```\n",
      "\n",
      "The first thing to do is to create an imgur client to upload the file:"
     ]
    },
    {
     "cell_type": "code",
     "collapsed": false,
     "input": [
      "import json\n",
      "from imgurpython import ImgurClient\n",
      "\n",
      "imgur_creds = json.load(open('imgur-credentials.json'))\n",
      "imgur_client = ImgurClient(imgur_creds['clientId'], imgur_creds['clientSecret'])"
     ],
     "language": "python",
     "metadata": {},
     "outputs": [],
     "prompt_number": 26
    },
    {
     "cell_type": "markdown",
     "metadata": {},
     "source": [
      "Using the ``pillow`` library we can save the image to a temporary file and the upload it. Note the use of the ``with`` statement to make sure that the temporary file is deleted."
     ]
    },
    {
     "cell_type": "code",
     "collapsed": false,
     "input": [
      "import tempfile\n",
      "from PIL import Image\n",
      "\n",
      "with tempfile.NamedTemporaryFile(suffix='.png') as tf:\n",
      "    Image.fromarray(np.where(font_image, 255, 0).astype(np.uint8)).save(tf.name)\n",
      "    upload_result = imgur_client.upload_from_path(tf.name)\n",
      "print('Image uploaded to: {0}'.format(upload_result['link']))"
     ],
     "language": "python",
     "metadata": {},
     "outputs": [
      {
       "output_type": "stream",
       "stream": "stdout",
       "text": [
        "Image uploaded to: http://i.imgur.com/7mZVBee.png\n"
       ]
      }
     ],
     "prompt_number": 27
    },
    {
     "cell_type": "markdown",
     "metadata": {},
     "source": [
      "IPython has some built-in support for displaying images from URLs. Let's use that to look at the result:"
     ]
    },
    {
     "cell_type": "code",
     "collapsed": false,
     "input": [
      "from IPython.display import Image\n",
      "Image(upload_result['link'])"
     ],
     "language": "python",
     "metadata": {},
     "outputs": [
      {
       "metadata": {},
       "output_type": "pyout",
       "png": "[encoded data removed]",
       "prompt_number": 28,
       "text": [
        "<IPython.core.display.Image at 0x7f344fbb8710>"
       ]
      }
     ],
     "prompt_number": 28
    },
    {
     "cell_type": "heading",
     "level": 1,
     "metadata": {},
     "source": [
      "Conclusion"
     ]
    },
    {
     "cell_type": "markdown",
     "metadata": {},
     "source": [
      "This little post has shown how we can extract fonts directly from old microcomputer ROM images with Python. As a bonus, we upload the resulting font back to the web via the imgur API."
     ]
    },
    {
     "cell_type": "code",
     "collapsed": false,
     "input": [],
     "language": "python",
     "metadata": {},
     "outputs": [],
     "prompt_number": 28
    }
   ],
   "metadata": {}
  }
 ]
}